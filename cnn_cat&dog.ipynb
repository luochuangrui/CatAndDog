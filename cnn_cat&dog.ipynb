{
 "cells": [
  {
   "cell_type": "code",
   "execution_count": 48,
   "metadata": {},
   "outputs": [],
   "source": [
    "from keras.models import Sequential\n",
    "from keras.layers import Conv2D,MaxPool2D,Activation,Dropout,Flatten,Dense\n",
    "from keras.optimizers import adam_v2\n",
    "from keras.preprocessing.image import ImageDataGenerator,img_to_array,load_img\n",
    "import matplotlib.pyplot as plt"
   ]
  },
  {
   "cell_type": "code",
   "execution_count": 49,
   "metadata": {},
   "outputs": [
    {
     "name": "stderr",
     "output_type": "stream",
     "text": [
      "E:\\Java-big-gift\\anaconda\\envs\\tensorflow\\lib\\site-packages\\keras\\optimizer_v2\\adam.py:105: UserWarning: The `lr` argument is deprecated, use `learning_rate` instead.\n",
      "  super(Adam, self).__init__(name, **kwargs)\n"
     ]
    }
   ],
   "source": [
    "#定义模型\n",
    "model = Sequential()\n",
    "model.add(Conv2D(input_shape=(150,150,3),filters=32,kernel_size=3,padding='same',activation='relu'))\n",
    "model.add(Conv2D(filters=32,kernel_size=3,padding='same',activation='relu'))\n",
    "model.add(MaxPool2D(pool_size=2,strides=2))\n",
    "\n",
    "model.add(Conv2D(filters=64,kernel_size=3,padding='same',activation='relu'))\n",
    "model.add(Conv2D(filters=64,kernel_size=3,padding='same',activation='relu'))\n",
    "model.add(MaxPool2D(pool_size=2,strides=2))\n",
    "\n",
    "model.add(Conv2D(filters=128,kernel_size=3,padding='same',activation='relu'))\n",
    "model.add(Conv2D(filters=128,kernel_size=3,padding='same',activation='relu'))\n",
    "model.add(MaxPool2D(pool_size=2,strides=2))\n",
    "\n",
    "model.add(Flatten())  #将二维数据变成一维向量\n",
    "#加上全连接层\n",
    "model.add(Dense(64,activation='relu'))\n",
    "model.add(Dropout(0.5))\n",
    "model.add(Dense(2,activation='softmax'))\n",
    "\n",
    "#定义优化器\n",
    "adam = adam_v2.Adam(lr=1e-4)\n",
    "\n",
    "#定义优化器，代价函数，训练过程中计算准确率\n",
    "model.compile(optimizer=adam,loss='categorical_crossentropy',metrics=['accuracy'])\n"
   ]
  },
  {
   "cell_type": "code",
   "execution_count": 50,
   "metadata": {},
   "outputs": [],
   "source": [
    "#数据增强\n",
    "train_datagen = ImageDataGenerator(\n",
    "    rotation_range = 40,       #随机旋转度数\n",
    "    width_shift_range = 0.2,   #随机水平位移\n",
    "    height_shift_range = 0.2,  #随机竖直平移\n",
    "    rescale = 1/255,           #数据归一化\n",
    "    shear_range = 0.2,         #随机裁剪\n",
    "    zoom_range = 0.2,          #随机放大\n",
    "    horizontal_flip = True,    #水平翻转\n",
    "    fill_mode = 'nearest',     #填充方式\n",
    ")\n",
    "\n",
    "test_datagen = ImageDataGenerator(\n",
    "    rescale = 1/255,           #数据归一化\n",
    "\n",
    ")"
   ]
  },
  {
   "cell_type": "code",
   "execution_count": 51,
   "metadata": {},
   "outputs": [
    {
     "name": "stdout",
     "output_type": "stream",
     "text": [
      "Found 2000 images belonging to 2 classes.\n",
      "Found 1000 images belonging to 2 classes.\n"
     ]
    }
   ],
   "source": [
    "batch_size = 32  #每次训练会使用32张图片\n",
    "\n",
    "#读取图像，将所有图像大小调整为150*150\n",
    "#生成训练数据\n",
    "train_generator = train_datagen.flow_from_directory(\n",
    "    'myData/train1',\n",
    "    target_size=(150,150),\n",
    "    batch_size=batch_size,\n",
    ")\n",
    "\n",
    "#生成测试数据\n",
    "test_generator = test_datagen.flow_from_directory(\n",
    "    'myData/test1',\n",
    "    target_size=(150,150),\n",
    "    batch_size=batch_size,\n",
    ")\n"
   ]
  },
  {
   "cell_type": "code",
   "execution_count": 52,
   "metadata": {},
   "outputs": [
    {
     "data": {
      "text/plain": [
       "{'cat': 0, 'dog': 1}"
      ]
     },
     "execution_count": 52,
     "metadata": {},
     "output_type": "execute_result"
    }
   ],
   "source": [
    "train_generator.class_indices"
   ]
  },
  {
   "cell_type": "code",
   "execution_count": 53,
   "metadata": {},
   "outputs": [
    {
     "name": "stderr",
     "output_type": "stream",
     "text": [
      "E:\\Java-big-gift\\anaconda\\envs\\tensorflow\\lib\\site-packages\\ipykernel_launcher.py:1: UserWarning: `Model.fit_generator` is deprecated and will be removed in a future version. Please use `Model.fit`, which supports generators.\n",
      "  \"\"\"Entry point for launching an IPython kernel.\n"
     ]
    },
    {
     "name": "stdout",
     "output_type": "stream",
     "text": [
      "Epoch 1/25\n",
      "63/63 [==============================] - 243s 4s/step - loss: 0.6928 - accuracy: 0.5110 - val_loss: 0.6919 - val_accuracy: 0.5000\n",
      "Epoch 2/25\n",
      "63/63 [==============================] - 224s 4s/step - loss: 0.6901 - accuracy: 0.5360 - val_loss: 0.6862 - val_accuracy: 0.6060\n",
      "Epoch 3/25\n",
      "63/63 [==============================] - 223s 4s/step - loss: 0.6854 - accuracy: 0.5500 - val_loss: 0.6658 - val_accuracy: 0.5870\n",
      "Epoch 4/25\n",
      "63/63 [==============================] - 224s 4s/step - loss: 0.6677 - accuracy: 0.5820 - val_loss: 0.6415 - val_accuracy: 0.6450\n",
      "Epoch 5/25\n",
      "63/63 [==============================] - 227s 4s/step - loss: 0.6580 - accuracy: 0.5945 - val_loss: 0.6242 - val_accuracy: 0.6470\n",
      "Epoch 6/25\n",
      "63/63 [==============================] - 222s 4s/step - loss: 0.6426 - accuracy: 0.6215 - val_loss: 0.6149 - val_accuracy: 0.6520\n",
      "Epoch 7/25\n",
      "63/63 [==============================] - 229s 4s/step - loss: 0.6485 - accuracy: 0.6290 - val_loss: 0.6374 - val_accuracy: 0.6440\n",
      "Epoch 8/25\n",
      "63/63 [==============================] - 237s 4s/step - loss: 0.6170 - accuracy: 0.6670 - val_loss: 0.5939 - val_accuracy: 0.6910\n",
      "Epoch 9/25\n",
      "63/63 [==============================] - 231s 4s/step - loss: 0.6021 - accuracy: 0.6840 - val_loss: 0.5759 - val_accuracy: 0.7140\n",
      "Epoch 10/25\n",
      "63/63 [==============================] - 223s 4s/step - loss: 0.5952 - accuracy: 0.6870 - val_loss: 0.5636 - val_accuracy: 0.7190\n",
      "Epoch 11/25\n",
      "63/63 [==============================] - 231s 4s/step - loss: 0.5915 - accuracy: 0.6920 - val_loss: 0.6046 - val_accuracy: 0.6930\n",
      "Epoch 12/25\n",
      "63/63 [==============================] - 254s 4s/step - loss: 0.5866 - accuracy: 0.6915 - val_loss: 0.5711 - val_accuracy: 0.6990\n",
      "Epoch 13/25\n",
      "63/63 [==============================] - 237s 4s/step - loss: 0.5790 - accuracy: 0.6940 - val_loss: 0.5692 - val_accuracy: 0.7120\n",
      "Epoch 14/25\n",
      "63/63 [==============================] - 229s 4s/step - loss: 0.5854 - accuracy: 0.6900 - val_loss: 0.5698 - val_accuracy: 0.6950\n",
      "Epoch 15/25\n",
      "63/63 [==============================] - 234s 4s/step - loss: 0.5813 - accuracy: 0.7045 - val_loss: 0.5700 - val_accuracy: 0.7030\n",
      "Epoch 16/25\n",
      "63/63 [==============================] - 251s 4s/step - loss: 0.5740 - accuracy: 0.7045 - val_loss: 0.5501 - val_accuracy: 0.7220\n",
      "Epoch 17/25\n",
      "63/63 [==============================] - 248s 4s/step - loss: 0.5691 - accuracy: 0.6960 - val_loss: 0.5485 - val_accuracy: 0.7330\n",
      "Epoch 18/25\n",
      "63/63 [==============================] - 195s 3s/step - loss: 0.5523 - accuracy: 0.7070 - val_loss: 0.5309 - val_accuracy: 0.7350\n",
      "Epoch 19/25\n",
      "63/63 [==============================] - 229s 4s/step - loss: 0.5677 - accuracy: 0.7015 - val_loss: 0.5509 - val_accuracy: 0.7200\n",
      "Epoch 20/25\n",
      "63/63 [==============================] - 232s 4s/step - loss: 0.5571 - accuracy: 0.7180 - val_loss: 0.5308 - val_accuracy: 0.7470\n",
      "Epoch 21/25\n",
      "63/63 [==============================] - 224s 4s/step - loss: 0.5520 - accuracy: 0.7145 - val_loss: 0.5445 - val_accuracy: 0.7340\n",
      "Epoch 22/25\n",
      "63/63 [==============================] - 247s 4s/step - loss: 0.5474 - accuracy: 0.7290 - val_loss: 0.5684 - val_accuracy: 0.7320\n",
      "Epoch 23/25\n",
      "63/63 [==============================] - 244s 4s/step - loss: 0.5689 - accuracy: 0.7140 - val_loss: 0.5469 - val_accuracy: 0.7420\n",
      "Epoch 24/25\n",
      "63/63 [==============================] - 227s 4s/step - loss: 0.5386 - accuracy: 0.7275 - val_loss: 0.5689 - val_accuracy: 0.7330\n",
      "Epoch 25/25\n",
      "63/63 [==============================] - 223s 4s/step - loss: 0.5316 - accuracy: 0.7275 - val_loss: 0.5140 - val_accuracy: 0.7600\n"
     ]
    }
   ],
   "source": [
    "history = model.fit_generator(train_generator,epochs=25,validation_data=test_generator)"
   ]
  },
  {
   "cell_type": "code",
   "execution_count": 69,
   "metadata": {},
   "outputs": [
    {
     "data": {
      "image/png": "[encoded data removed]",
      "text/plain": [
       "<Figure size 432x288 with 1 Axes>"
      ]
     },
     "metadata": {
      "needs_background": "light"
     },
     "output_type": "display_data"
    },
    {
     "data": {
      "image/png": "[encoded data removed]",
      "text/plain": [
       "<Figure size 432x288 with 1 Axes>"
      ]
     },
     "metadata": {
      "needs_background": "light"
     },
     "output_type": "display_data"
    }
   ],
   "source": [
    "# #保存模型\n",
    "# model.save('model_cnn.h5')\n",
    "import matplotlib.pyplot as plt\n",
    "#绘制损失函数和模型准确度\n",
    "#分别返回测试精度，验证精度，训练损失，验证损失\n",
    "acc = history.history['accuracy']\n",
    "val_acc = history.history['val_accuracy']\n",
    "loss = history.history['loss']\n",
    "val_loss = history.history['val_loss']\n",
    "\n",
    "\n",
    "epochs = range(1, len(acc) + 1)#迭代次数\n",
    "\n",
    "#绘制训练精度和验证精度的图,bo表示蓝色圆点表示，b为蓝色曲线\n",
    "plt.plot(epochs, acc, 'bo', label = 'Training acc')\n",
    "plt.plot(epochs, val_acc, 'b', label = 'Test')\n",
    "plt.title('Training and Test accuracy')\n",
    "plt.legend()\n",
    "\n",
    "plt.figure()\n",
    "\n",
    "#绘制训练损失和验证损失\n",
    "plt.plot(epochs, loss, 'bo', label = 'Training loss')\n",
    "plt.plot(epochs, val_loss, 'b', label = 'Test loss')\n",
    "plt.title('Training and Test loss')\n",
    "plt.legend()\n",
    "plt.show()\n",
    "\n"
   ]
  },
  {
   "cell_type": "markdown",
   "metadata": {},
   "source": [
    "# 测试"
   ]
  },
  {
   "cell_type": "code",
   "execution_count": 2,
   "metadata": {},
   "outputs": [
    {
     "name": "stdout",
     "output_type": "stream",
     "text": [
      "Found 1000 images belonging to 2 classes.\n",
      "混淆矩阵: \n",
      " [[390 110]\n",
      " [136 364]]\n",
      "精确率:  0.7546886781858144\n",
      "准确率:  0.754\n",
      "召回率:  0.754\n"
     ]
    }
   ],
   "source": [
    "from keras.models import load_model\n",
    "from keras.models import load_model\n",
    "import numpy as np\n",
    "import matplotlib.pyplot as plt\n",
    "import tensorflow as tf\n",
    "from sklearn.metrics import confusion_matrix,precision_score, recall_score,accuracy_score\n",
    "from keras.preprocessing.image import ImageDataGenerator,img_to_array,load_img\n",
    "\n",
    "test_datagen = ImageDataGenerator(\n",
    "    rescale = 1/255,           #数据归一化\n",
    ")\n",
    "\n",
    "#生成测试数据\n",
    "test_generator = test_datagen.flow_from_directory(\n",
    "    'myData/test1',\n",
    "    target_size=(150,150),\n",
    "    batch_size=32,\n",
    "    shuffle=False,\n",
    ")\n",
    "\n",
    "\n",
    "label = np.array(['cat','dog'])\n",
    "\n",
    "#载入模型\n",
    "model = load_model('model_cnn.h5')\n",
    "\n",
    "y_pred = model.predict(test_generator)\n",
    "y_pred = tf.argmax(y_pred,1)\n",
    "y_test = test_generator.classes\n",
    "# print(y_pred)\n",
    "# print(y_test)\n",
    "print('混淆矩阵: \\n' , confusion_matrix(y_test,y_pred))\n",
    "print('精确率: ' , precision_score(y_test,y_pred,average='macro'))\n",
    "print('准确率: ' , accuracy_score(y_test,y_pred))\n",
    "print('召回率: ' , recall_score(y_test,y_pred,average='macro'))\n",
    "\n"
   ]
  }
 ],
 "metadata": {
  "kernelspec": {
   "display_name": "tensorflow",
   "language": "python",
   "name": "tensorflow"
  },
  "language_info": {
   "codemirror_mode": {
    "name": "ipython",
    "version": 3
   },
   "file_extension": ".py",
   "mimetype": "text/x-python",
   "name": "python",
   "nbconvert_exporter": "python",
   "pygments_lexer": "ipython3",
   "version": "3.7.0"
  },
  "vscode": {
   "interpreter": {
    "hash": "26de051ba29f2982a8de78e945f0abaf191376122a1563185a90213a26c5da77"
   }
  }
 },
 "nbformat": 4,
 "nbformat_minor": 2
}
